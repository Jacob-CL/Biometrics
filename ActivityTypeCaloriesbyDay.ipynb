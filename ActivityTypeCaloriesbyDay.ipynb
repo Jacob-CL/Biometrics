{
 "cells": [
  {
   "cell_type": "code",
   "execution_count": 149,
   "metadata": {},
   "outputs": [],
   "source": [
    "# An analysis on calories burnt by activity type - \n",
    "import pandas as pd\n",
    "import matplotlib.pyplot as plt"
   ]
  },
  {
   "cell_type": "code",
   "execution_count": 150,
   "metadata": {},
   "outputs": [
    {
     "data": {
      "text/html": [
       "<div>\n",
       "<style scoped>\n",
       "    .dataframe tbody tr th:only-of-type {\n",
       "        vertical-align: middle;\n",
       "    }\n",
       "\n",
       "    .dataframe tbody tr th {\n",
       "        vertical-align: top;\n",
       "    }\n",
       "\n",
       "    .dataframe thead th {\n",
       "        text-align: right;\n",
       "    }\n",
       "</style>\n",
       "<table border=\"1\" class=\"dataframe\">\n",
       "  <thead>\n",
       "    <tr style=\"text-align: right;\">\n",
       "      <th></th>\n",
       "      <th>Day</th>\n",
       "      <th>Activity Type</th>\n",
       "      <th>Value</th>\n",
       "    </tr>\n",
       "  </thead>\n",
       "  <tbody>\n",
       "    <tr>\n",
       "      <th>0</th>\n",
       "      <td>Mon</td>\n",
       "      <td>Walking</td>\n",
       "      <td>171</td>\n",
       "    </tr>\n",
       "    <tr>\n",
       "      <th>1</th>\n",
       "      <td>Mon</td>\n",
       "      <td>Fitness Equipment</td>\n",
       "      <td>832</td>\n",
       "    </tr>\n",
       "    <tr>\n",
       "      <th>2</th>\n",
       "      <td>Tue</td>\n",
       "      <td>Walking</td>\n",
       "      <td>1090</td>\n",
       "    </tr>\n",
       "    <tr>\n",
       "      <th>3</th>\n",
       "      <td>Tue</td>\n",
       "      <td>Fitness Equipment</td>\n",
       "      <td>364</td>\n",
       "    </tr>\n",
       "    <tr>\n",
       "      <th>4</th>\n",
       "      <td>Wed</td>\n",
       "      <td>Walking</td>\n",
       "      <td>425</td>\n",
       "    </tr>\n",
       "    <tr>\n",
       "      <th>5</th>\n",
       "      <td>Wed</td>\n",
       "      <td>Fitness Equipment</td>\n",
       "      <td>247</td>\n",
       "    </tr>\n",
       "    <tr>\n",
       "      <th>6</th>\n",
       "      <td>Thu</td>\n",
       "      <td>Walking</td>\n",
       "      <td>433</td>\n",
       "    </tr>\n",
       "    <tr>\n",
       "      <th>7</th>\n",
       "      <td>Thu</td>\n",
       "      <td>Fitness Equipment</td>\n",
       "      <td>579</td>\n",
       "    </tr>\n",
       "    <tr>\n",
       "      <th>8</th>\n",
       "      <td>Fri</td>\n",
       "      <td>Walking</td>\n",
       "      <td>350</td>\n",
       "    </tr>\n",
       "    <tr>\n",
       "      <th>9</th>\n",
       "      <td>Sat</td>\n",
       "      <td>Walking</td>\n",
       "      <td>628</td>\n",
       "    </tr>\n",
       "    <tr>\n",
       "      <th>10</th>\n",
       "      <td>Sat</td>\n",
       "      <td>Fitness Equipment</td>\n",
       "      <td>743</td>\n",
       "    </tr>\n",
       "    <tr>\n",
       "      <th>11</th>\n",
       "      <td>Sun</td>\n",
       "      <td>Walking</td>\n",
       "      <td>2202</td>\n",
       "    </tr>\n",
       "  </tbody>\n",
       "</table>\n",
       "</div>"
      ],
      "text/plain": [
       "    Day      Activity Type  Value\n",
       "0   Mon            Walking    171\n",
       "1   Mon  Fitness Equipment    832\n",
       "2   Tue            Walking   1090\n",
       "3   Tue  Fitness Equipment    364\n",
       "4   Wed            Walking    425\n",
       "5   Wed  Fitness Equipment    247\n",
       "6   Thu            Walking    433\n",
       "7   Thu  Fitness Equipment    579\n",
       "8   Fri            Walking    350\n",
       "9   Sat            Walking    628\n",
       "10  Sat  Fitness Equipment    743\n",
       "11  Sun            Walking   2202"
      ]
     },
     "execution_count": 150,
     "metadata": {},
     "output_type": "execute_result"
    }
   ],
   "source": [
    "# Import in CSV file and remove the first row \n",
    "ActivityCals = pd.read_csv('Week45/Activity Calories.csv', skiprows=[0])\n",
    "\n",
    "\n",
    "# New column names - basically to add 'Days'\n",
    "NewColumnNames = ['Day', 'Activity Type', 'Value']\n",
    "ActivityCals.columns = NewColumnNames\n",
    "\n",
    "# Now drop the stupid header bullshit\n",
    "#ActivityCals = ActivityCals.drop(ActivityCals.index[0])\n",
    "ActivityCals"
   ]
  },
  {
   "cell_type": "code",
   "execution_count": 151,
   "metadata": {},
   "outputs": [
    {
     "data": {
      "image/png": "[encoded data removed]",
      "text/plain": [
       "<Figure size 640x480 with 1 Axes>"
      ]
     },
     "metadata": {},
     "output_type": "display_data"
    }
   ],
   "source": [
    "df = pd.DataFrame(ActivityCals)\n",
    "\n",
    "# Group the dataframe by the 'Day' and 'Activity Type' columns, then sum the values and unstack.\n",
    "grouped = df.groupby(['Day','Activity Type']).sum()['Value'].unstack()\n",
    "#print(grouped)\n",
    "\n",
    "# Reorder bars\n",
    "order = ['Mon','Tue','Wed','Thu','Fri','Sat', 'Sun']\n",
    "\n",
    "# Create a stacked bar chart from the grouped data\n",
    "ax = grouped.loc[order].plot(kind='bar', stacked=True)\n",
    "plt.xlabel('Day')\n",
    "plt.ylabel('Calories')\n",
    "plt.title('Calories burnt per day, by activity type')\n",
    "plt.legend(title='Activity Type', bbox_to_anchor=(1.05, 1), loc='upper left')\n",
    "plt.show()"
   ]
  }
 ],
 "metadata": {
  "kernelspec": {
   "display_name": "Python 3",
   "language": "python",
   "name": "python3"
  },
  "language_info": {
   "codemirror_mode": {
    "name": "ipython",
    "version": 3
   },
   "file_extension": ".py",
   "mimetype": "text/x-python",
   "name": "python",
   "nbconvert_exporter": "python",
   "pygments_lexer": "ipython3",
   "version": "3.12.0"
  }
 },
 "nbformat": 4,
 "nbformat_minor": 2
}
