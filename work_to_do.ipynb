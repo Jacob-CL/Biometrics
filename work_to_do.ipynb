{
 "cells": [
  {
   "cell_type": "markdown",
   "metadata": {},
   "source": [
    "- Merge the ActivityTypeCaloriesbyDay and CaloriesAnalysis notebooks into 1\n",
    "- Seaborn?\n",
    "- How do I turn this into a python script where it calculates everything for me by running it and printing to the CMD? Can it generate a pdf report instead?\n",
    "  - Assuming all the right CSVs are in their appropriate folder. \n",
    "  - Does this need to be in one giant script?\n",
    "- Selenium to pull the scripts for me automatically?\n",
    "- API does exist $$?\n",
    "- Correlations\n",
    "- Neaten up the code up like a lot"
   ]
  }
 ],
 "metadata": {
  "kernelspec": {
   "display_name": "Python 3",
   "language": "python",
   "name": "python3"
  },
  "language_info": {
   "name": "python",
   "version": "3.12.0"
  }
 },
 "nbformat": 4,
 "nbformat_minor": 2
}
