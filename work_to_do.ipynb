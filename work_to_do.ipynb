{
 "cells": [
  {
   "cell_type": "markdown",
   "metadata": {},
   "source": [
    "### To do\n",
    "- Merge the ActivityTypeCaloriesbyDay and CaloriesAnalysis notebooks into 1\n",
    "- Seaborn?\n",
    "- How do I turn this into a python script where it calculates everything for me by running it and printing to the CMD? Can it generate a pdf report instead?\n",
    "  - Assuming all the right CSVs are in their appropriate folder. \n",
    "  - Does this need to be in one giant script?\n",
    "  - Save/Download to PDF?\n",
    "- Selenium to pull the scripts for me automatically?\n",
    "- API does exist $$?\n",
    "- Correlations\n",
    "- Neaten up the code up like a lot\n",
    "- Steps Analysis\n",
    "- Heart Rate Analysis\n",
    "- Error handling for Activity Type where Day is out of order - maybe a switch statement to reorder the graph if the data is missing a particular day?\n",
    "\n",
    "### The Big Plan\n",
    "- CalorieAnalysis, HeartRateAnalysis, StepsAnalysis, + any correlations I can think of\n",
    "- Prettify with Seaborn\n",
    "- Selenium to download the CSV files and place in appropriate folders (maybe)\n",
    "- Convert to a python script that does everything with a single double click ?\n",
    "- API access (maybe $$?)\n",
    "- Would love sleep data\n",
    "\n"
   ]
  }
 ],
 "metadata": {
  "kernelspec": {
   "display_name": "Python 3",
   "language": "python",
   "name": "python3"
  },
  "language_info": {
   "name": "python",
   "version": "3.12.0"
  }
 },
 "nbformat": 4,
 "nbformat_minor": 2
}
