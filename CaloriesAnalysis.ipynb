{
 "cells": [
  {
   "cell_type": "code",
   "execution_count": null,
   "metadata": {},
   "outputs": [],
   "source": [
    "# Calories\n",
    "\n",
    "# Questions\n",
    "# - How many average calories am I burning each day?\n",
    "# - Stacked bar chart: resting vs active calories each day = total each day\n",
    "# - What is the total number of calories I'm burning each week?\n",
    "# - Weekly Avg Active + Weekly Avg Resting = Weekly AVg Total \n",
    "# e.g 1090 Weekly Avg Active + 21-6 Weekly Avg Resting = 3196 Weekly Avg Total"
   ]
  }
 ],
 "metadata": {
  "kernelspec": {
   "display_name": "Python 3",
   "language": "python",
   "name": "python3"
  },
  "language_info": {
   "name": "python",
   "version": "3.12.0"
  }
 },
 "nbformat": 4,
 "nbformat_minor": 2
}
