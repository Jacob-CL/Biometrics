{
 "cells": [
  {
   "cell_type": "markdown",
   "metadata": {},
   "source": [
    "# Calorie Analysis\n",
    "## Questions\n",
    "\n",
    "- How many average calories am I burning each day?\n",
    "- Stacked bar chart: resting vs active calories each day = total each day\n",
    "- What is the total number of calories I'm burning each week?\n",
    "- Weekly Avg Active + Weekly Avg Resting = Weekly AVg Total e.g 1090 Weekly Avg Active + 21-6 Weekly Avg Resting = 3196 Weekly Avg Total\n",
    "- Error handling for Activity Type where Day is out of order - maybe a switch statement to reorder the graph if the data is missing a particular day?"
   ]
  },
  {
   "cell_type": "code",
   "execution_count": 1,
   "metadata": {},
   "outputs": [],
   "source": [
    "# An analysis on calories burnt by activity type - \n",
    "import pandas as pd\n",
    "import matplotlib.pyplot as plt\n",
    "\n",
    "# What week is it?\n",
    "week = \"Week 46\"\n",
    "\n",
    "# Try to import the CSV file, handling potential errors\n",
    "try:\n",
    "    # Import in CSV file and skip the first row\n",
    "    calories = pd.read_csv('Week 46/Calories.csv')\n",
    "    new_column_names = ['Date', 'Active Calories', 'Resting Calories', 'Total']\n",
    "    \n",
    "    # Ensure the number of new column names matches the number of columns in the DataFrame\n",
    "    if len(new_column_names) == len(calories.columns):\n",
    "        calories.columns = new_column_names\n",
    "    else:\n",
    "        print(\"Error: The number of new column names does not match the number of columns in the DataFrame\")\n",
    "\n",
    "    # Set 'Date' as the index so that xticks become the 'Date' rather than the 0, 1, 2 etc index.\n",
    "    calories.set_index('Date', inplace=True)\n",
    "\n",
    "    #print(calories)\n",
    "except FileNotFoundError:\n",
    "     print(\"The specified file was not found.\")\n"
   ]
  },
  {
   "cell_type": "markdown",
   "metadata": {},
   "source": [
    "# Some Math"
   ]
  },
  {
   "cell_type": "code",
   "execution_count": 2,
   "metadata": {},
   "outputs": [
    {
     "ename": "NameError",
     "evalue": "name 'df' is not defined",
     "output_type": "error",
     "traceback": [
      "\u001b[1;31m---------------------------------------------------------------------------\u001b[0m",
      "\u001b[1;31mNameError\u001b[0m                                 Traceback (most recent call last)",
      "\u001b[1;32mc:\\Users\\User\\Documents\\Python Scripts\\GarminBiometrics\\CaloriesAnalysis.ipynb Cell 4\u001b[0m line \u001b[0;36m2\n\u001b[0;32m      <a href='vscode-notebook-cell:/c%3A/Users/User/Documents/Python%20Scripts/GarminBiometrics/CaloriesAnalysis.ipynb#W6sZmlsZQ%3D%3D?line=0'>1</a>\u001b[0m \u001b[39m# On average, how many calories am I burning each day?\u001b[39;00m\n\u001b[1;32m----> <a href='vscode-notebook-cell:/c%3A/Users/User/Documents/Python%20Scripts/GarminBiometrics/CaloriesAnalysis.ipynb#W6sZmlsZQ%3D%3D?line=1'>2</a>\u001b[0m average_daily_calories \u001b[39m=\u001b[39m \u001b[39mround\u001b[39m(df[\u001b[39m'\u001b[39m\u001b[39mTotal\u001b[39m\u001b[39m'\u001b[39m]\u001b[39m.\u001b[39mmean(), \u001b[39m1\u001b[39m)\n\u001b[0;32m      <a href='vscode-notebook-cell:/c%3A/Users/User/Documents/Python%20Scripts/GarminBiometrics/CaloriesAnalysis.ipynb#W6sZmlsZQ%3D%3D?line=3'>4</a>\u001b[0m \u001b[39m# How many average ACTIVE calories am I burning each day?git\u001b[39;00m\n\u001b[0;32m      <a href='vscode-notebook-cell:/c%3A/Users/User/Documents/Python%20Scripts/GarminBiometrics/CaloriesAnalysis.ipynb#W6sZmlsZQ%3D%3D?line=4'>5</a>\u001b[0m average_active_calories \u001b[39m=\u001b[39m \u001b[39mint\u001b[39m(\u001b[39mround\u001b[39m(df[\u001b[39m'\u001b[39m\u001b[39mActive Calories\u001b[39m\u001b[39m'\u001b[39m]\u001b[39m.\u001b[39mmean(), \u001b[39m0\u001b[39m))\n",
      "\u001b[1;31mNameError\u001b[0m: name 'df' is not defined"
     ]
    }
   ],
   "source": [
    "# On average, how many calories am I burning each day?\n",
    "average_daily_calories = round(df['Total'].mean(), 1)\n",
    "\n",
    "# How many average ACTIVE calories am I burning each day?git\n",
    "average_active_calories = int(round(df['Active Calories'].mean(), 0))\n",
    "\n",
    "# How many average RESTING calories am I burning each day?\n",
    "average_resting_calories = int(round(df['Resting Calories'].mean(), 0))\n",
    "\n",
    "# What is the total number of calories I'm burning each week?\n",
    "total_calories_burnt = round(df['Total'].sum(), 1)\n",
    "\n",
    "Description = f'You burnt a total of {total_calories_burnt} calories this week. On average, that is about {int(average_daily_calories)} per day. \\n\\nTypically, {average_active_calories} of those calories were actively burnt and {average_resting_calories} were burnt resting.'"
   ]
  },
  {
   "cell_type": "markdown",
   "metadata": {},
   "source": [
    "# Some Plotting"
   ]
  },
  {
   "cell_type": "code",
   "execution_count": null,
   "metadata": {},
   "outputs": [],
   "source": [
    "# https://pandas.pydata.org/pandas-docs/version/0.23/generated/pandas.DataFrame.plot.html\n",
    "\n",
    "# Rename the dataframe for easy usage\n",
    "df = calories\n",
    "\n",
    "# Ignore 'Total' calories for the sake of the graph\n",
    "df_without_total = df.drop('Total', axis=1) # axis=1 specifies that you want to drop a column, not a row.\n",
    "\n",
    "# Stacked bar chart - https://matplotlib.org/stable/users/explain/colors/colormaps.html\n",
    "ax = df_without_total.plot(kind='bar', stacked=True, colormap='tab10', width=0.8)\n",
    "\n",
    "# Add the value of calories to each bar:\n",
    "for p in ax.patches:\n",
    "    width, height = p.get_width(), p.get_height()\n",
    "    x, y = p.get_xy() \n",
    "    ax.text(x+width/2, \n",
    "            y+height/2, \n",
    "            '{:.0f}'.format(height), \n",
    "            horizontalalignment='center', \n",
    "            verticalalignment='center', \n",
    "            size=9)\n",
    "\n",
    "# Set the background color of the entire figure\n",
    "fig = plt.gcf()\n",
    "fig.set_facecolor('lightgrey')\n",
    "\n",
    "# Set the color of the graph itself\n",
    "ax.set_facecolor('white')\n",
    "\n",
    "# Edit the legend\n",
    "ax.legend(loc='upper right', frameon=False)#, ncol=3)\n",
    "\n",
    "# Label axis'\n",
    "plt.xlabel('Date', color='black')\n",
    "plt.ylabel('Calories', color='black')\n",
    "plt.title(week + ' - Calories burnt by type', color='black')\n",
    "\n",
    "# Customize x, y ticks\n",
    "plt.xticks(rotation=0, color='black')\n",
    "\n",
    "# Customize y-axis to display every 500 calories\n",
    "max_calories = df_without_total.sum(axis=1).max()  # Find the maximum sum of calories\n",
    "ytick_values = range(0, int(max_calories) + 500, 500)  # Create a range of values from 0 to max, stepping by 500\n",
    "plt.yticks(ytick_values, color='black')\n",
    "\n",
    "ax.annotate(Description,\n",
    "            xy = (-0.1, -0.2),\n",
    "            xycoords='axes fraction',\n",
    "            ha='left',\n",
    "            va=\"center\",\n",
    "            fontsize=10)\n",
    "\n",
    "# Show me the dam thing\n",
    "plt.show()"
   ]
  }
 ],
 "metadata": {
  "kernelspec": {
   "display_name": "Python 3",
   "language": "python",
   "name": "python3"
  },
  "language_info": {
   "codemirror_mode": {
    "name": "ipython",
    "version": 3
   },
   "file_extension": ".py",
   "mimetype": "text/x-python",
   "name": "python",
   "nbconvert_exporter": "python",
   "pygments_lexer": "ipython3",
   "version": "3.12.0"
  }
 },
 "nbformat": 4,
 "nbformat_minor": 2
}
