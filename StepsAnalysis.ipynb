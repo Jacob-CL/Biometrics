{
 "cells": [
  {
   "cell_type": "markdown",
   "metadata": {},
   "source": [
    "# Step Analysis\n",
    "\n",
    "## Questions\n",
    "- Stacked bar chart: Steps each day vs goal\n",
    "- How many total steps this week? \n",
    "- How many kms does this equal to?\n",
    "- What is the average daily steps? "
   ]
  }
 ],
 "metadata": {
  "kernelspec": {
   "display_name": "Python 3",
   "language": "python",
   "name": "python3"
  },
  "language_info": {
   "name": "python",
   "version": "3.12.0"
  }
 },
 "nbformat": 4,
 "nbformat_minor": 2
}
