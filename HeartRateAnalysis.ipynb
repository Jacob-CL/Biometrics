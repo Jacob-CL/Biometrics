{
 "cells": [
  {
   "cell_type": "markdown",
   "metadata": {},
   "source": [
    "# Heart Rate Analysis\n",
    "## Questions\n",
    "\n",
    "- Plot Resting Heart Rate\n",
    "- Plot max heart rate from each day and plot an average line (See 'Max Heart Rate')\n",
    "- Plot average heart rate of each day and plot an average line (See 'Average Heart Rate')\n",
    "- What is my average resting throughout the week?"
   ]
  }
 ],
 "metadata": {
  "kernelspec": {
   "display_name": "Python 3",
   "language": "python",
   "name": "python3"
  },
  "language_info": {
   "codemirror_mode": {
    "name": "ipython",
    "version": 3
   },
   "file_extension": ".py",
   "mimetype": "text/x-python",
   "name": "python",
   "nbconvert_exporter": "python",
   "pygments_lexer": "ipython3",
   "version": "3.12.0"
  }
 },
 "nbformat": 4,
 "nbformat_minor": 2
}
